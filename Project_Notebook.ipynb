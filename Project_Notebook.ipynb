{
 "cells": [
  {
   "cell_type": "code",
   "execution_count": 48,
   "metadata": {},
   "outputs": [],
   "source": [
    "import pandas as pd \n",
    "from sqlalchemy import create_engine "
   ]
  },
  {
   "cell_type": "code",
   "execution_count": 54,
   "metadata": {
    "scrolled": true
   },
   "outputs": [],
   "source": [
    "crimes_2019 = \"/Users/stevekennedy/Desktop/ETL-/Crime2019.csv\"\n",
    "crimes2019_df = pd.read_csv(crimes_2019)\n",
    "\n",
    "\n",
    "crimes_2018 = \"/Users/stevekennedy/Desktop/ETL-/Crimes2018.csv\"\n",
    "crimes2018_df = pd.read_csv(crimes_2018)\n",
    "crimes2018_df.head()\n",
    "\n",
    "joined_df = pd.concat([crimes2019_df, crimes2018_df]).dropna()\n",
    "\n",
    "new_crime_data = joined_df[['ID', 'Case Number', 'Date', 'IUCR','Description','Community Area' ]]\n"
   ]
  },
  {
   "cell_type": "code",
   "execution_count": 50,
   "metadata": {},
   "outputs": [],
   "source": [
    "police_stations = \"/Users/stevekennedy/Desktop/ETL-/Police_Stations.csv\"\n",
    "police_stations_df = pd.read_csv(police_stations)\n",
    "stations_updated_df = police_stations_df[[\"DISTRICT\", \"DISTRICT NAME\",\"ADDRESS\", \"WEBSITE\"]]"
   ]
  },
  {
   "cell_type": "code",
   "execution_count": null,
   "metadata": {},
   "outputs": [],
   "source": []
  }
 ],
 "metadata": {
  "kernelspec": {
   "display_name": "Python 3",
   "language": "python",
   "name": "python3"
  },
  "language_info": {
   "codemirror_mode": {
    "name": "ipython",
    "version": 3
   },
   "file_extension": ".py",
   "mimetype": "text/x-python",
   "name": "python",
   "nbconvert_exporter": "python",
   "pygments_lexer": "ipython3",
   "version": "3.7.4"
  }
 },
 "nbformat": 4,
 "nbformat_minor": 2
}
